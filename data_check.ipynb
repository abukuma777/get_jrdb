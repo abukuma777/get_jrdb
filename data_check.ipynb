{
 "cells": [
  {
   "cell_type": "markdown",
   "metadata": {},
   "source": [
    "## datacheck"
   ]
  },
  {
   "cell_type": "code",
   "execution_count": 3,
   "metadata": {},
   "outputs": [
    {
     "name": "stdout",
     "output_type": "stream",
     "text": [
      "Processing BAC...\n"
     ]
    },
    {
     "name": "stderr",
     "output_type": "stream",
     "text": [
      "Checking encodings: 100%|██████████| 2655/2655 [00:09<00:00, 289.83it/s] \n"
     ]
    },
    {
     "name": "stdout",
     "output_type": "stream",
     "text": [
      "Processing CHA...\n"
     ]
    },
    {
     "name": "stderr",
     "output_type": "stream",
     "text": [
      "Checking encodings: 100%|██████████| 1623/1623 [00:05<00:00, 273.66it/s]\n"
     ]
    },
    {
     "name": "stdout",
     "output_type": "stream",
     "text": [
      "Processing CYB...\n"
     ]
    },
    {
     "name": "stderr",
     "output_type": "stream",
     "text": [
      "Checking encodings: 100%|██████████| 2552/2552 [00:01<00:00, 1820.29it/s]\n"
     ]
    },
    {
     "name": "stdout",
     "output_type": "stream",
     "text": [
      "Processing CZA...\n"
     ]
    },
    {
     "name": "stderr",
     "output_type": "stream",
     "text": [
      "Checking encodings: 100%|██████████| 1/1 [00:00<00:00, 118.28it/s]\n"
     ]
    },
    {
     "name": "stdout",
     "output_type": "stream",
     "text": [
      "Processing JOA...\n"
     ]
    },
    {
     "name": "stderr",
     "output_type": "stream",
     "text": [
      "Checking encodings: 100%|██████████| 2655/2655 [00:08<00:00, 307.48it/s]  \n"
     ]
    },
    {
     "name": "stdout",
     "output_type": "stream",
     "text": [
      "Processing KAB...\n"
     ]
    },
    {
     "name": "stderr",
     "output_type": "stream",
     "text": [
      "Checking encodings: 100%|██████████| 2655/2655 [00:03<00:00, 760.04it/s]\n"
     ]
    },
    {
     "name": "stdout",
     "output_type": "stream",
     "text": [
      "Processing KKA...\n"
     ]
    },
    {
     "name": "stderr",
     "output_type": "stream",
     "text": [
      "Checking encodings: 100%|██████████| 2311/2311 [00:01<00:00, 1564.69it/s]\n"
     ]
    },
    {
     "name": "stdout",
     "output_type": "stream",
     "text": [
      "Processing KYI...\n"
     ]
    },
    {
     "name": "stderr",
     "output_type": "stream",
     "text": [
      "Checking encodings: 100%|██████████| 2655/2655 [00:08<00:00, 310.59it/s]\n"
     ]
    },
    {
     "name": "stdout",
     "output_type": "stream",
     "text": [
      "Processing KZA...\n"
     ]
    },
    {
     "name": "stderr",
     "output_type": "stream",
     "text": [
      "Checking encodings: 100%|██████████| 1/1 [00:00<00:00, 118.25it/s]\n"
     ]
    },
    {
     "name": "stdout",
     "output_type": "stream",
     "text": [
      "Processing MZA...\n"
     ]
    },
    {
     "name": "stderr",
     "output_type": "stream",
     "text": [
      "Checking encodings: 100%|██████████| 1/1 [00:00<00:00, 317.22it/s]\n"
     ]
    },
    {
     "name": "stdout",
     "output_type": "stream",
     "text": [
      "Processing OT...\n"
     ]
    },
    {
     "name": "stderr",
     "output_type": "stream",
     "text": [
      "Checking encodings: 100%|██████████| 2208/2208 [00:02<00:00, 1100.63it/s]\n"
     ]
    },
    {
     "name": "stdout",
     "output_type": "stream",
     "text": [
      "Processing OU...\n"
     ]
    },
    {
     "name": "stderr",
     "output_type": "stream",
     "text": [
      "Checking encodings: 100%|██████████| 2208/2208 [00:01<00:00, 1224.83it/s]\n"
     ]
    },
    {
     "name": "stdout",
     "output_type": "stream",
     "text": [
      "Processing OV...\n"
     ]
    },
    {
     "name": "stderr",
     "output_type": "stream",
     "text": [
      "Checking encodings: 100%|██████████| 2058/2058 [00:02<00:00, 837.42it/s]\n"
     ]
    },
    {
     "name": "stdout",
     "output_type": "stream",
     "text": [
      "Processing OW...\n"
     ]
    },
    {
     "name": "stderr",
     "output_type": "stream",
     "text": [
      "Checking encodings: 100%|██████████| 2562/2562 [00:02<00:00, 1231.16it/s]\n"
     ]
    },
    {
     "name": "stdout",
     "output_type": "stream",
     "text": [
      "Processing OZ...\n"
     ]
    },
    {
     "name": "stderr",
     "output_type": "stream",
     "text": [
      "Checking encodings: 100%|██████████| 2655/2655 [00:02<00:00, 1223.15it/s]\n"
     ]
    },
    {
     "name": "stdout",
     "output_type": "stream",
     "text": [
      "Processing UKC...\n"
     ]
    },
    {
     "name": "stderr",
     "output_type": "stream",
     "text": [
      "Checking encodings: 100%|██████████| 2655/2655 [00:13<00:00, 202.44it/s]\n"
     ]
    },
    {
     "name": "stdout",
     "output_type": "stream",
     "text": [
      "Processing ZED...\n"
     ]
    },
    {
     "name": "stderr",
     "output_type": "stream",
     "text": [
      "Checking encodings: 100%|██████████| 1634/1634 [00:06<00:00, 254.37it/s]\n"
     ]
    },
    {
     "name": "stdout",
     "output_type": "stream",
     "text": [
      "Processing ZKB...\n"
     ]
    },
    {
     "name": "stderr",
     "output_type": "stream",
     "text": [
      "Checking encodings: 100%|██████████| 1973/1973 [00:08<00:00, 229.00it/s]"
     ]
    },
    {
     "name": "stdout",
     "output_type": "stream",
     "text": [
      "Finished processing all directories.\n"
     ]
    },
    {
     "name": "stderr",
     "output_type": "stream",
     "text": [
      "\n"
     ]
    }
   ],
   "source": [
    "import os\n",
    "import chardet\n",
    "import pandas as pd\n",
    "from concurrent.futures import ThreadPoolExecutor\n",
    "from tqdm import tqdm\n",
    "\n",
    "def detect_encoding(file_path):\n",
    "    try:\n",
    "        with open(file_path, 'rb') as f:\n",
    "            result = chardet.detect(f.read(1024))\n",
    "        return [file_path, result.get('encoding')]\n",
    "    except Exception as e:\n",
    "        print(f\"{file_path} generated an exception: {e}\")\n",
    "        return None\n",
    "\n",
    "def check_file_encodings(folder_path):\n",
    "    encoding_data = []\n",
    "    with ThreadPoolExecutor(max_workers=10) as executor:\n",
    "        futures = []\n",
    "        for root, dirs, files in os.walk(folder_path):\n",
    "            for filename in files:\n",
    "                if filename.endswith(\".txt\"):\n",
    "                    file_path = os.path.join(root, filename)\n",
    "                    futures.append(executor.submit(detect_encoding, file_path))\n",
    "        for future in tqdm(futures, desc=\"Checking encodings\"):\n",
    "            result = future.result()\n",
    "            if result:\n",
    "                encoding_data.append(result)\n",
    "    df = pd.DataFrame(encoding_data, columns=['File Name', 'Encoding Type'])\n",
    "    return df\n",
    "\n",
    "# Initialize or load existing summary DataFrame\n",
    "try:\n",
    "    df_summary = pd.read_csv('txt_encoding.csv')\n",
    "except FileNotFoundError:\n",
    "    df_summary = pd.DataFrame(columns=['File Name', 'Encoding Type'])\n",
    "\n",
    "\n",
    "# Get all directory names under \"/app/data/jrdb_txt/\"\n",
    "list_file_name = [name for name in os.listdir(\"/app/data/jrdb_txt/\") if os.path.isdir(os.path.join(\"/app/data/jrdb_txt/\", name))]\n",
    "\n",
    "for file_name in list_file_name:\n",
    "    print(f\"Processing {file_name}...\")\n",
    "    folder_path = f\"/app/data/jrdb_txt/{file_name}\"\n",
    "    df = check_file_encodings(folder_path)\n",
    "    unique_encodings = df['Encoding Type'].unique()\n",
    "\n",
    "    new_row = pd.DataFrame({'File Name': [file_name], 'Encoding Type': [unique_encodings]})\n",
    "    df_summary = pd.concat([df_summary, new_row], ignore_index=True)\n",
    "\n",
    "    df_summary.to_csv('txt_encoding.csv', index=False)\n",
    "\n",
    "print(\"Finished processing all directories.\")\n"
   ]
  },
  {
   "cell_type": "code",
   "execution_count": 4,
   "metadata": {},
   "outputs": [
    {
     "data": {
      "text/html": [
       "<div>\n",
       "<style scoped>\n",
       "    .dataframe tbody tr th:only-of-type {\n",
       "        vertical-align: middle;\n",
       "    }\n",
       "\n",
       "    .dataframe tbody tr th {\n",
       "        vertical-align: top;\n",
       "    }\n",
       "\n",
       "    .dataframe thead th {\n",
       "        text-align: right;\n",
       "    }\n",
       "</style>\n",
       "<table border=\"1\" class=\"dataframe\">\n",
       "  <thead>\n",
       "    <tr style=\"text-align: right;\">\n",
       "      <th></th>\n",
       "      <th>File Name</th>\n",
       "      <th>Encoding Type</th>\n",
       "    </tr>\n",
       "  </thead>\n",
       "  <tbody>\n",
       "    <tr>\n",
       "      <th>0</th>\n",
       "      <td>BAC</td>\n",
       "      <td>['SHIFT_JIS']</td>\n",
       "    </tr>\n",
       "    <tr>\n",
       "      <th>1</th>\n",
       "      <td>BAC</td>\n",
       "      <td>[SHIFT_JIS]</td>\n",
       "    </tr>\n",
       "    <tr>\n",
       "      <th>2</th>\n",
       "      <td>CHA</td>\n",
       "      <td>[MacRoman, Johab, Windows-1252]</td>\n",
       "    </tr>\n",
       "    <tr>\n",
       "      <th>3</th>\n",
       "      <td>CYB</td>\n",
       "      <td>[ascii, MacRoman]</td>\n",
       "    </tr>\n",
       "    <tr>\n",
       "      <th>4</th>\n",
       "      <td>CZA</td>\n",
       "      <td>[SHIFT_JIS]</td>\n",
       "    </tr>\n",
       "    <tr>\n",
       "      <th>5</th>\n",
       "      <td>JOA</td>\n",
       "      <td>[SHIFT_JIS]</td>\n",
       "    </tr>\n",
       "    <tr>\n",
       "      <th>6</th>\n",
       "      <td>KAB</td>\n",
       "      <td>[Windows-1252, None, MacRoman, IBM866]</td>\n",
       "    </tr>\n",
       "    <tr>\n",
       "      <th>7</th>\n",
       "      <td>KKA</td>\n",
       "      <td>[ascii]</td>\n",
       "    </tr>\n",
       "    <tr>\n",
       "      <th>8</th>\n",
       "      <td>KYI</td>\n",
       "      <td>[CP932, SHIFT_JIS]</td>\n",
       "    </tr>\n",
       "    <tr>\n",
       "      <th>9</th>\n",
       "      <td>KZA</td>\n",
       "      <td>[SHIFT_JIS]</td>\n",
       "    </tr>\n",
       "    <tr>\n",
       "      <th>10</th>\n",
       "      <td>MZA</td>\n",
       "      <td>[ascii]</td>\n",
       "    </tr>\n",
       "    <tr>\n",
       "      <th>11</th>\n",
       "      <td>OT</td>\n",
       "      <td>[ascii]</td>\n",
       "    </tr>\n",
       "    <tr>\n",
       "      <th>12</th>\n",
       "      <td>OU</td>\n",
       "      <td>[ascii]</td>\n",
       "    </tr>\n",
       "    <tr>\n",
       "      <th>13</th>\n",
       "      <td>OV</td>\n",
       "      <td>[ascii]</td>\n",
       "    </tr>\n",
       "    <tr>\n",
       "      <th>14</th>\n",
       "      <td>OW</td>\n",
       "      <td>[ascii]</td>\n",
       "    </tr>\n",
       "    <tr>\n",
       "      <th>15</th>\n",
       "      <td>OZ</td>\n",
       "      <td>[ascii]</td>\n",
       "    </tr>\n",
       "    <tr>\n",
       "      <th>16</th>\n",
       "      <td>UKC</td>\n",
       "      <td>[CP932, SHIFT_JIS]</td>\n",
       "    </tr>\n",
       "    <tr>\n",
       "      <th>17</th>\n",
       "      <td>ZED</td>\n",
       "      <td>[SHIFT_JIS]</td>\n",
       "    </tr>\n",
       "    <tr>\n",
       "      <th>18</th>\n",
       "      <td>ZKB</td>\n",
       "      <td>[SHIFT_JIS]</td>\n",
       "    </tr>\n",
       "  </tbody>\n",
       "</table>\n",
       "</div>"
      ],
      "text/plain": [
       "   File Name                           Encoding Type\n",
       "0        BAC                           ['SHIFT_JIS']\n",
       "1        BAC                             [SHIFT_JIS]\n",
       "2        CHA         [MacRoman, Johab, Windows-1252]\n",
       "3        CYB                       [ascii, MacRoman]\n",
       "4        CZA                             [SHIFT_JIS]\n",
       "5        JOA                             [SHIFT_JIS]\n",
       "6        KAB  [Windows-1252, None, MacRoman, IBM866]\n",
       "7        KKA                                 [ascii]\n",
       "8        KYI                      [CP932, SHIFT_JIS]\n",
       "9        KZA                             [SHIFT_JIS]\n",
       "10       MZA                                 [ascii]\n",
       "11        OT                                 [ascii]\n",
       "12        OU                                 [ascii]\n",
       "13        OV                                 [ascii]\n",
       "14        OW                                 [ascii]\n",
       "15        OZ                                 [ascii]\n",
       "16       UKC                      [CP932, SHIFT_JIS]\n",
       "17       ZED                             [SHIFT_JIS]\n",
       "18       ZKB                             [SHIFT_JIS]"
      ]
     },
     "execution_count": 4,
     "metadata": {},
     "output_type": "execute_result"
    }
   ],
   "source": [
    "df_summary\n"
   ]
  },
  {
   "cell_type": "markdown",
   "metadata": {},
   "source": [
    "## type_check_single"
   ]
  },
  {
   "cell_type": "code",
   "execution_count": 82,
   "metadata": {},
   "outputs": [],
   "source": [
    "import os\n",
    "from pathlib import Path\n",
    "import chardet  # エンコーディングを自動判別するためのライブラリ\n",
    "\n",
    "def check_encoding(base_directory):\n",
    "    base_directory_path = Path(base_directory)\n",
    "    years = [f.name for f in base_directory_path.iterdir() if f.is_dir()]\n",
    "\n",
    "    for year in years:\n",
    "        directory_path = base_directory_path / year\n",
    "        for filename in os.listdir(directory_path):\n",
    "            if filename.endswith(\".txt\"):\n",
    "                file_path = directory_path / filename\n",
    "                with open(file_path, 'rb') as f:\n",
    "                    result = chardet.detect(f.read())\n",
    "                if result['encoding'] != 'SHIFT-JIS':\n",
    "                    print(f\"File {file_path} is not encoded in SHIFT-JIS. Detected encoding: {result['encoding']}\")\n"
   ]
  },
  {
   "cell_type": "markdown",
   "metadata": {},
   "source": [
    "## Encoding"
   ]
  },
  {
   "cell_type": "markdown",
   "metadata": {},
   "source": [
    "### BAC"
   ]
  },
  {
   "cell_type": "code",
   "execution_count": 83,
   "metadata": {},
   "outputs": [],
   "source": [
    "# df_bac = pd.read_csv('/app/data/jrdb_csv/BAC/BAC_1999.csv')\n",
    "# df_bac\n"
   ]
  },
  {
   "cell_type": "code",
   "execution_count": 84,
   "metadata": {},
   "outputs": [],
   "source": [
    "# # df_bac[df_bac['回数']=='40111000']\n",
    "# # df_bac[df_bac['場コード']=='08']\n",
    "# print(df_bac.columns)\n",
    "# # print(df_bac.dtypes)\n",
    "# print(df_bac['グレード'].unique())\n",
    "# # df_bac.loc[1, 'レース名']\n",
    "\n",
    "# # df_bac[['３着賞金']]\n"
   ]
  },
  {
   "cell_type": "markdown",
   "metadata": {},
   "source": [
    "### CZA"
   ]
  },
  {
   "cell_type": "code",
   "execution_count": 86,
   "metadata": {},
   "outputs": [
    {
     "name": "stdout",
     "output_type": "stream",
     "text": [
      "File /app/data/jrdb_txt/CZA/2023/CZA231014.txt is not encoded in SHIFT-JIS. Detected encoding: CP932\n"
     ]
    }
   ],
   "source": [
    "# ディレクトリパスを指定して関数を呼び出す\n",
    "check_encoding(\"/app/data/jrdb_txt/CZA\")\n"
   ]
  },
  {
   "cell_type": "code",
   "execution_count": 87,
   "metadata": {},
   "outputs": [
    {
     "data": {
      "text/html": [
       "<div>\n",
       "<style scoped>\n",
       "    .dataframe tbody tr th:only-of-type {\n",
       "        vertical-align: middle;\n",
       "    }\n",
       "\n",
       "    .dataframe tbody tr th {\n",
       "        vertical-align: top;\n",
       "    }\n",
       "\n",
       "    .dataframe thead th {\n",
       "        text-align: right;\n",
       "    }\n",
       "</style>\n",
       "<table border=\"1\" class=\"dataframe\">\n",
       "  <thead>\n",
       "    <tr style=\"text-align: right;\">\n",
       "      <th></th>\n",
       "      <th>調教師コード</th>\n",
       "      <th>登録抹消フラグ</th>\n",
       "      <th>登録抹消年月日</th>\n",
       "      <th>調教師名</th>\n",
       "      <th>調教師カナ</th>\n",
       "      <th>調教師名略称</th>\n",
       "      <th>所属コード</th>\n",
       "      <th>所属地域名</th>\n",
       "      <th>生年月日</th>\n",
       "      <th>初免許年</th>\n",
       "      <th>調教師コメント</th>\n",
       "      <th>コメント入力年月日</th>\n",
       "      <th>本年リーディング</th>\n",
       "      <th>本年平地成績</th>\n",
       "      <th>本年障害成績</th>\n",
       "      <th>本年特別勝数</th>\n",
       "      <th>本年重賞勝数</th>\n",
       "      <th>昨年リーディング</th>\n",
       "      <th>昨年平地成績</th>\n",
       "      <th>昨年障害成績</th>\n",
       "      <th>昨年特別勝数</th>\n",
       "      <th>昨年重賞勝数</th>\n",
       "      <th>通算平地成績</th>\n",
       "      <th>通算障害成績</th>\n",
       "      <th>データ年月日</th>\n",
       "      <th>予備</th>\n",
       "    </tr>\n",
       "  </thead>\n",
       "  <tbody>\n",
       "    <tr>\n",
       "      <th>0</th>\n",
       "      <td>10014</td>\n",
       "      <td>1</td>\n",
       "      <td>19930228</td>\n",
       "      <td>中村広</td>\n",
       "      <td>ナカムラ　ヒロシ</td>\n",
       "      <td>中村広</td>\n",
       "      <td>1</td>\n",
       "      <td>美浦</td>\n",
       "      <td>19150510.0</td>\n",
       "      <td>1938.0</td>\n",
       "      <td>NaN</td>\n",
       "      <td>NaN</td>\n",
       "      <td>NaN</td>\n",
       "      <td>NaN</td>\n",
       "      <td>NaN</td>\n",
       "      <td>NaN</td>\n",
       "      <td>NaN</td>\n",
       "      <td>NaN</td>\n",
       "      <td>NaN</td>\n",
       "      <td>NaN</td>\n",
       "      <td>NaN</td>\n",
       "      <td>NaN</td>\n",
       "      <td>929  930  853 5171</td>\n",
       "      <td>70   64   41  213</td>\n",
       "      <td>20231014</td>\n",
       "      <td>NaN</td>\n",
       "    </tr>\n",
       "    <tr>\n",
       "      <th>1</th>\n",
       "      <td>10017</td>\n",
       "      <td>1</td>\n",
       "      <td>19950228</td>\n",
       "      <td>元石正雄</td>\n",
       "      <td>モトイシ　マサオ</td>\n",
       "      <td>元石正</td>\n",
       "      <td>1</td>\n",
       "      <td>美浦</td>\n",
       "      <td>19180315.0</td>\n",
       "      <td>1938.0</td>\n",
       "      <td>NaN</td>\n",
       "      <td>NaN</td>\n",
       "      <td>NaN</td>\n",
       "      <td>NaN</td>\n",
       "      <td>NaN</td>\n",
       "      <td>NaN</td>\n",
       "      <td>NaN</td>\n",
       "      <td>NaN</td>\n",
       "      <td>NaN</td>\n",
       "      <td>NaN</td>\n",
       "      <td>NaN</td>\n",
       "      <td>NaN</td>\n",
       "      <td>337  345  402 3712</td>\n",
       "      <td>14   12   15  152</td>\n",
       "      <td>20231014</td>\n",
       "      <td>NaN</td>\n",
       "    </tr>\n",
       "    <tr>\n",
       "      <th>2</th>\n",
       "      <td>10022</td>\n",
       "      <td>1</td>\n",
       "      <td>19920229</td>\n",
       "      <td>武平三</td>\n",
       "      <td>タケ　ヘイゾウ</td>\n",
       "      <td>武平三</td>\n",
       "      <td>2</td>\n",
       "      <td>栗東</td>\n",
       "      <td>19140520.0</td>\n",
       "      <td>1938.0</td>\n",
       "      <td>NaN</td>\n",
       "      <td>NaN</td>\n",
       "      <td>NaN</td>\n",
       "      <td>NaN</td>\n",
       "      <td>NaN</td>\n",
       "      <td>NaN</td>\n",
       "      <td>NaN</td>\n",
       "      <td>NaN</td>\n",
       "      <td>NaN</td>\n",
       "      <td>NaN</td>\n",
       "      <td>NaN</td>\n",
       "      <td>NaN</td>\n",
       "      <td>587  575  614 4268</td>\n",
       "      <td>78   82   64  375</td>\n",
       "      <td>20231014</td>\n",
       "      <td>NaN</td>\n",
       "    </tr>\n",
       "    <tr>\n",
       "      <th>3</th>\n",
       "      <td>10023</td>\n",
       "      <td>1</td>\n",
       "      <td>19920229</td>\n",
       "      <td>田之上勲</td>\n",
       "      <td>タノウエ　イサオ</td>\n",
       "      <td>田之上</td>\n",
       "      <td>2</td>\n",
       "      <td>栗東</td>\n",
       "      <td>19140630.0</td>\n",
       "      <td>1938.0</td>\n",
       "      <td>NaN</td>\n",
       "      <td>NaN</td>\n",
       "      <td>NaN</td>\n",
       "      <td>NaN</td>\n",
       "      <td>NaN</td>\n",
       "      <td>NaN</td>\n",
       "      <td>NaN</td>\n",
       "      <td>NaN</td>\n",
       "      <td>NaN</td>\n",
       "      <td>NaN</td>\n",
       "      <td>NaN</td>\n",
       "      <td>NaN</td>\n",
       "      <td>580  659  659 5345</td>\n",
       "      <td>32   32   34  161</td>\n",
       "      <td>20231014</td>\n",
       "      <td>NaN</td>\n",
       "    </tr>\n",
       "    <tr>\n",
       "      <th>4</th>\n",
       "      <td>10031</td>\n",
       "      <td>1</td>\n",
       "      <td>19950228</td>\n",
       "      <td>稗田敏男</td>\n",
       "      <td>ヒエダ　トシオ</td>\n",
       "      <td>稗田敏</td>\n",
       "      <td>1</td>\n",
       "      <td>美浦</td>\n",
       "      <td>19181015.0</td>\n",
       "      <td>1948.0</td>\n",
       "      <td>NaN</td>\n",
       "      <td>NaN</td>\n",
       "      <td>NaN</td>\n",
       "      <td>NaN</td>\n",
       "      <td>NaN</td>\n",
       "      <td>NaN</td>\n",
       "      <td>NaN</td>\n",
       "      <td>NaN</td>\n",
       "      <td>NaN</td>\n",
       "      <td>NaN</td>\n",
       "      <td>NaN</td>\n",
       "      <td>NaN</td>\n",
       "      <td>858  757  718 5474</td>\n",
       "      <td>46   46   46  163</td>\n",
       "      <td>20231014</td>\n",
       "      <td>NaN</td>\n",
       "    </tr>\n",
       "    <tr>\n",
       "      <th>...</th>\n",
       "      <td>...</td>\n",
       "      <td>...</td>\n",
       "      <td>...</td>\n",
       "      <td>...</td>\n",
       "      <td>...</td>\n",
       "      <td>...</td>\n",
       "      <td>...</td>\n",
       "      <td>...</td>\n",
       "      <td>...</td>\n",
       "      <td>...</td>\n",
       "      <td>...</td>\n",
       "      <td>...</td>\n",
       "      <td>...</td>\n",
       "      <td>...</td>\n",
       "      <td>...</td>\n",
       "      <td>...</td>\n",
       "      <td>...</td>\n",
       "      <td>...</td>\n",
       "      <td>...</td>\n",
       "      <td>...</td>\n",
       "      <td>...</td>\n",
       "      <td>...</td>\n",
       "      <td>...</td>\n",
       "      <td>...</td>\n",
       "      <td>...</td>\n",
       "      <td>...</td>\n",
       "    </tr>\n",
       "    <tr>\n",
       "      <th>1303</th>\n",
       "      <td>70227</td>\n",
       "      <td>0</td>\n",
       "      <td>20201203</td>\n",
       "      <td>Ａ．マルチア</td>\n",
       "      <td>Ａ．マルチアリス</td>\n",
       "      <td>マルチ</td>\n",
       "      <td>3</td>\n",
       "      <td>仏国</td>\n",
       "      <td>19830523.0</td>\n",
       "      <td>2020.0</td>\n",
       "      <td>NaN</td>\n",
       "      <td>NaN</td>\n",
       "      <td>NaN</td>\n",
       "      <td>NaN</td>\n",
       "      <td>NaN</td>\n",
       "      <td>NaN</td>\n",
       "      <td>NaN</td>\n",
       "      <td>NaN</td>\n",
       "      <td>NaN</td>\n",
       "      <td>NaN</td>\n",
       "      <td>NaN</td>\n",
       "      <td>NaN</td>\n",
       "      <td>0    0    0    1</td>\n",
       "      <td>0    0    0    0</td>\n",
       "      <td>20231014</td>\n",
       "      <td>NaN</td>\n",
       "    </tr>\n",
       "    <tr>\n",
       "      <th>1304</th>\n",
       "      <td>70228</td>\n",
       "      <td>0</td>\n",
       "      <td>20221202</td>\n",
       "      <td>Ｇ．ビエトリ</td>\n",
       "      <td>Ｇ．ビエトリーニ</td>\n",
       "      <td>ビエト</td>\n",
       "      <td>3</td>\n",
       "      <td>仏国</td>\n",
       "      <td>19680320.0</td>\n",
       "      <td>2022.0</td>\n",
       "      <td>NaN</td>\n",
       "      <td>NaN</td>\n",
       "      <td>NaN</td>\n",
       "      <td>NaN</td>\n",
       "      <td>NaN</td>\n",
       "      <td>NaN</td>\n",
       "      <td>NaN</td>\n",
       "      <td>NaN</td>\n",
       "      <td>0  0  0  1</td>\n",
       "      <td>0  0  0  0</td>\n",
       "      <td>0.0</td>\n",
       "      <td>0.0</td>\n",
       "      <td>0    0    0    2</td>\n",
       "      <td>0    0    0    0</td>\n",
       "      <td>20231014</td>\n",
       "      <td>NaN</td>\n",
       "    </tr>\n",
       "    <tr>\n",
       "      <th>1305</th>\n",
       "      <td>70229</td>\n",
       "      <td>0</td>\n",
       "      <td>20221202</td>\n",
       "      <td>Ｊ．ハリント</td>\n",
       "      <td>Ｊ．ハリントン</td>\n",
       "      <td>ハリン</td>\n",
       "      <td>3</td>\n",
       "      <td>愛国</td>\n",
       "      <td>19470225.0</td>\n",
       "      <td>2022.0</td>\n",
       "      <td>NaN</td>\n",
       "      <td>NaN</td>\n",
       "      <td>NaN</td>\n",
       "      <td>NaN</td>\n",
       "      <td>NaN</td>\n",
       "      <td>NaN</td>\n",
       "      <td>NaN</td>\n",
       "      <td>NaN</td>\n",
       "      <td>0  0  0  1</td>\n",
       "      <td>0  0  0  0</td>\n",
       "      <td>0.0</td>\n",
       "      <td>0.0</td>\n",
       "      <td>0    0    0    1</td>\n",
       "      <td>0    0    0    0</td>\n",
       "      <td>20231014</td>\n",
       "      <td>NaN</td>\n",
       "    </tr>\n",
       "    <tr>\n",
       "      <th>1306</th>\n",
       "      <td>70230</td>\n",
       "      <td>0</td>\n",
       "      <td>20221202</td>\n",
       "      <td>Ｆ．シャペ</td>\n",
       "      <td>Ｆ．シャペ</td>\n",
       "      <td>シャペ</td>\n",
       "      <td>3</td>\n",
       "      <td>仏国</td>\n",
       "      <td>19631126.0</td>\n",
       "      <td>2022.0</td>\n",
       "      <td>NaN</td>\n",
       "      <td>NaN</td>\n",
       "      <td>NaN</td>\n",
       "      <td>NaN</td>\n",
       "      <td>NaN</td>\n",
       "      <td>NaN</td>\n",
       "      <td>NaN</td>\n",
       "      <td>NaN</td>\n",
       "      <td>0  0  0  1</td>\n",
       "      <td>0  0  0  0</td>\n",
       "      <td>0.0</td>\n",
       "      <td>0.0</td>\n",
       "      <td>0    0    0    1</td>\n",
       "      <td>0    0    0    0</td>\n",
       "      <td>20231014</td>\n",
       "      <td>NaN</td>\n",
       "    </tr>\n",
       "    <tr>\n",
       "      <th>1307</th>\n",
       "      <td>70231</td>\n",
       "      <td>0</td>\n",
       "      <td>20221202</td>\n",
       "      <td>Ｓ．ワッテル</td>\n",
       "      <td>Ｓ．ワッテル</td>\n",
       "      <td>ワッテ</td>\n",
       "      <td>3</td>\n",
       "      <td>仏国</td>\n",
       "      <td>19640501.0</td>\n",
       "      <td>2022.0</td>\n",
       "      <td>NaN</td>\n",
       "      <td>NaN</td>\n",
       "      <td>NaN</td>\n",
       "      <td>NaN</td>\n",
       "      <td>NaN</td>\n",
       "      <td>NaN</td>\n",
       "      <td>NaN</td>\n",
       "      <td>NaN</td>\n",
       "      <td>0  0  0  1</td>\n",
       "      <td>0  0  0  0</td>\n",
       "      <td>0.0</td>\n",
       "      <td>0.0</td>\n",
       "      <td>0    0    0    1</td>\n",
       "      <td>0    0    0    0</td>\n",
       "      <td>20231014</td>\n",
       "      <td>NaN</td>\n",
       "    </tr>\n",
       "  </tbody>\n",
       "</table>\n",
       "<p>1308 rows × 26 columns</p>\n",
       "</div>"
      ],
      "text/plain": [
       "      調教師コード  登録抹消フラグ   登録抹消年月日    調教師名     調教師カナ 調教師名略称  所属コード 所属地域名  \\\n",
       "0      10014        1  19930228     中村広  ナカムラ　ヒロシ    中村広      1    美浦   \n",
       "1      10017        1  19950228    元石正雄  モトイシ　マサオ    元石正      1    美浦   \n",
       "2      10022        1  19920229     武平三   タケ　ヘイゾウ    武平三      2    栗東   \n",
       "3      10023        1  19920229    田之上勲  タノウエ　イサオ    田之上      2    栗東   \n",
       "4      10031        1  19950228    稗田敏男   ヒエダ　トシオ    稗田敏      1    美浦   \n",
       "...      ...      ...       ...     ...       ...    ...    ...   ...   \n",
       "1303   70227        0  20201203  Ａ．マルチア  Ａ．マルチアリス    マルチ      3    仏国   \n",
       "1304   70228        0  20221202  Ｇ．ビエトリ  Ｇ．ビエトリーニ    ビエト      3    仏国   \n",
       "1305   70229        0  20221202  Ｊ．ハリント   Ｊ．ハリントン    ハリン      3    愛国   \n",
       "1306   70230        0  20221202   Ｆ．シャペ     Ｆ．シャペ    シャペ      3    仏国   \n",
       "1307   70231        0  20221202  Ｓ．ワッテル    Ｓ．ワッテル    ワッテ      3    仏国   \n",
       "\n",
       "            生年月日    初免許年 調教師コメント  コメント入力年月日  本年リーディング 本年平地成績 本年障害成績  本年特別勝数  \\\n",
       "0     19150510.0  1938.0     NaN        NaN       NaN    NaN    NaN     NaN   \n",
       "1     19180315.0  1938.0     NaN        NaN       NaN    NaN    NaN     NaN   \n",
       "2     19140520.0  1938.0     NaN        NaN       NaN    NaN    NaN     NaN   \n",
       "3     19140630.0  1938.0     NaN        NaN       NaN    NaN    NaN     NaN   \n",
       "4     19181015.0  1948.0     NaN        NaN       NaN    NaN    NaN     NaN   \n",
       "...          ...     ...     ...        ...       ...    ...    ...     ...   \n",
       "1303  19830523.0  2020.0     NaN        NaN       NaN    NaN    NaN     NaN   \n",
       "1304  19680320.0  2022.0     NaN        NaN       NaN    NaN    NaN     NaN   \n",
       "1305  19470225.0  2022.0     NaN        NaN       NaN    NaN    NaN     NaN   \n",
       "1306  19631126.0  2022.0     NaN        NaN       NaN    NaN    NaN     NaN   \n",
       "1307  19640501.0  2022.0     NaN        NaN       NaN    NaN    NaN     NaN   \n",
       "\n",
       "      本年重賞勝数  昨年リーディング      昨年平地成績      昨年障害成績  昨年特別勝数  昨年重賞勝数  \\\n",
       "0        NaN       NaN         NaN         NaN     NaN     NaN   \n",
       "1        NaN       NaN         NaN         NaN     NaN     NaN   \n",
       "2        NaN       NaN         NaN         NaN     NaN     NaN   \n",
       "3        NaN       NaN         NaN         NaN     NaN     NaN   \n",
       "4        NaN       NaN         NaN         NaN     NaN     NaN   \n",
       "...      ...       ...         ...         ...     ...     ...   \n",
       "1303     NaN       NaN         NaN         NaN     NaN     NaN   \n",
       "1304     NaN       NaN  0  0  0  1  0  0  0  0     0.0     0.0   \n",
       "1305     NaN       NaN  0  0  0  1  0  0  0  0     0.0     0.0   \n",
       "1306     NaN       NaN  0  0  0  1  0  0  0  0     0.0     0.0   \n",
       "1307     NaN       NaN  0  0  0  1  0  0  0  0     0.0     0.0   \n",
       "\n",
       "                  通算平地成績             通算障害成績    データ年月日  予備  \n",
       "0     929  930  853 5171  70   64   41  213  20231014 NaN  \n",
       "1     337  345  402 3712  14   12   15  152  20231014 NaN  \n",
       "2     587  575  614 4268  78   82   64  375  20231014 NaN  \n",
       "3     580  659  659 5345  32   32   34  161  20231014 NaN  \n",
       "4     858  757  718 5474  46   46   46  163  20231014 NaN  \n",
       "...                  ...                ...       ...  ..  \n",
       "1303    0    0    0    1   0    0    0    0  20231014 NaN  \n",
       "1304    0    0    0    2   0    0    0    0  20231014 NaN  \n",
       "1305    0    0    0    1   0    0    0    0  20231014 NaN  \n",
       "1306    0    0    0    1   0    0    0    0  20231014 NaN  \n",
       "1307    0    0    0    1   0    0    0    0  20231014 NaN  \n",
       "\n",
       "[1308 rows x 26 columns]"
      ]
     },
     "execution_count": 87,
     "metadata": {},
     "output_type": "execute_result"
    }
   ],
   "source": [
    "df_cza = pd.read_csv('/app/data/jrdb_csv/CZA/BAC_2023.csv')\n",
    "df_cza\n"
   ]
  },
  {
   "cell_type": "code",
   "execution_count": null,
   "metadata": {},
   "outputs": [],
   "source": []
  }
 ],
 "metadata": {
  "kernelspec": {
   "display_name": "Python 3",
   "language": "python",
   "name": "python3"
  },
  "language_info": {
   "codemirror_mode": {
    "name": "ipython",
    "version": 3
   },
   "file_extension": ".py",
   "mimetype": "text/x-python",
   "name": "python",
   "nbconvert_exporter": "python",
   "pygments_lexer": "ipython3",
   "version": "3.9.18"
  }
 },
 "nbformat": 4,
 "nbformat_minor": 2
}
