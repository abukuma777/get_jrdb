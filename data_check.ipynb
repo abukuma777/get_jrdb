{
 "cells": [
  {
   "cell_type": "markdown",
   "metadata": {},
   "source": [
    "## datacheck"
   ]
  },
  {
   "cell_type": "code",
   "execution_count": 3,
   "metadata": {},
   "outputs": [
    {
     "name": "stdout",
     "output_type": "stream",
     "text": [
      "Processing BAC...\n"
     ]
    },
    {
     "name": "stderr",
     "output_type": "stream",
     "text": [
      "Checking encodings: 100%|██████████| 2655/2655 [00:09<00:00, 289.83it/s] \n"
     ]
    },
    {
     "name": "stdout",
     "output_type": "stream",
     "text": [
      "Processing CHA...\n"
     ]
    },
    {
     "name": "stderr",
     "output_type": "stream",
     "text": [
      "Checking encodings: 100%|██████████| 1623/1623 [00:05<00:00, 273.66it/s]\n"
     ]
    },
    {
     "name": "stdout",
     "output_type": "stream",
     "text": [
      "Processing CYB...\n"
     ]
    },
    {
     "name": "stderr",
     "output_type": "stream",
     "text": [
      "Checking encodings: 100%|██████████| 2552/2552 [00:01<00:00, 1820.29it/s]\n"
     ]
    },
    {
     "name": "stdout",
     "output_type": "stream",
     "text": [
      "Processing CZA...\n"
     ]
    },
    {
     "name": "stderr",
     "output_type": "stream",
     "text": [
      "Checking encodings: 100%|██████████| 1/1 [00:00<00:00, 118.28it/s]\n"
     ]
    },
    {
     "name": "stdout",
     "output_type": "stream",
     "text": [
      "Processing JOA...\n"
     ]
    },
    {
     "name": "stderr",
     "output_type": "stream",
     "text": [
      "Checking encodings: 100%|██████████| 2655/2655 [00:08<00:00, 307.48it/s]  \n"
     ]
    },
    {
     "name": "stdout",
     "output_type": "stream",
     "text": [
      "Processing KAB...\n"
     ]
    },
    {
     "name": "stderr",
     "output_type": "stream",
     "text": [
      "Checking encodings: 100%|██████████| 2655/2655 [00:03<00:00, 760.04it/s]\n"
     ]
    },
    {
     "name": "stdout",
     "output_type": "stream",
     "text": [
      "Processing KKA...\n"
     ]
    },
    {
     "name": "stderr",
     "output_type": "stream",
     "text": [
      "Checking encodings: 100%|██████████| 2311/2311 [00:01<00:00, 1564.69it/s]\n"
     ]
    },
    {
     "name": "stdout",
     "output_type": "stream",
     "text": [
      "Processing KYI...\n"
     ]
    },
    {
     "name": "stderr",
     "output_type": "stream",
     "text": [
      "Checking encodings: 100%|██████████| 2655/2655 [00:08<00:00, 310.59it/s]\n"
     ]
    },
    {
     "name": "stdout",
     "output_type": "stream",
     "text": [
      "Processing KZA...\n"
     ]
    },
    {
     "name": "stderr",
     "output_type": "stream",
     "text": [
      "Checking encodings: 100%|██████████| 1/1 [00:00<00:00, 118.25it/s]\n"
     ]
    },
    {
     "name": "stdout",
     "output_type": "stream",
     "text": [
      "Processing MZA...\n"
     ]
    },
    {
     "name": "stderr",
     "output_type": "stream",
     "text": [
      "Checking encodings: 100%|██████████| 1/1 [00:00<00:00, 317.22it/s]\n"
     ]
    },
    {
     "name": "stdout",
     "output_type": "stream",
     "text": [
      "Processing OT...\n"
     ]
    },
    {
     "name": "stderr",
     "output_type": "stream",
     "text": [
      "Checking encodings: 100%|██████████| 2208/2208 [00:02<00:00, 1100.63it/s]\n"
     ]
    },
    {
     "name": "stdout",
     "output_type": "stream",
     "text": [
      "Processing OU...\n"
     ]
    },
    {
     "name": "stderr",
     "output_type": "stream",
     "text": [
      "Checking encodings: 100%|██████████| 2208/2208 [00:01<00:00, 1224.83it/s]\n"
     ]
    },
    {
     "name": "stdout",
     "output_type": "stream",
     "text": [
      "Processing OV...\n"
     ]
    },
    {
     "name": "stderr",
     "output_type": "stream",
     "text": [
      "Checking encodings: 100%|██████████| 2058/2058 [00:02<00:00, 837.42it/s]\n"
     ]
    },
    {
     "name": "stdout",
     "output_type": "stream",
     "text": [
      "Processing OW...\n"
     ]
    },
    {
     "name": "stderr",
     "output_type": "stream",
     "text": [
      "Checking encodings: 100%|██████████| 2562/2562 [00:02<00:00, 1231.16it/s]\n"
     ]
    },
    {
     "name": "stdout",
     "output_type": "stream",
     "text": [
      "Processing OZ...\n"
     ]
    },
    {
     "name": "stderr",
     "output_type": "stream",
     "text": [
      "Checking encodings: 100%|██████████| 2655/2655 [00:02<00:00, 1223.15it/s]\n"
     ]
    },
    {
     "name": "stdout",
     "output_type": "stream",
     "text": [
      "Processing UKC...\n"
     ]
    },
    {
     "name": "stderr",
     "output_type": "stream",
     "text": [
      "Checking encodings: 100%|██████████| 2655/2655 [00:13<00:00, 202.44it/s]\n"
     ]
    },
    {
     "name": "stdout",
     "output_type": "stream",
     "text": [
      "Processing ZED...\n"
     ]
    },
    {
     "name": "stderr",
     "output_type": "stream",
     "text": [
      "Checking encodings: 100%|██████████| 1634/1634 [00:06<00:00, 254.37it/s]\n"
     ]
    },
    {
     "name": "stdout",
     "output_type": "stream",
     "text": [
      "Processing ZKB...\n"
     ]
    },
    {
     "name": "stderr",
     "output_type": "stream",
     "text": [
      "Checking encodings: 100%|██████████| 1973/1973 [00:08<00:00, 229.00it/s]"
     ]
    },
    {
     "name": "stdout",
     "output_type": "stream",
     "text": [
      "Finished processing all directories.\n"
     ]
    },
    {
     "name": "stderr",
     "output_type": "stream",
     "text": [
      "\n"
     ]
    }
   ],
   "source": [
    "import os\n",
    "import chardet\n",
    "import pandas as pd\n",
    "from concurrent.futures import ThreadPoolExecutor\n",
    "from tqdm import tqdm\n",
    "\n",
    "def detect_encoding(file_path):\n",
    "    try:\n",
    "        with open(file_path, 'rb') as f:\n",
    "            result = chardet.detect(f.read(1024))\n",
    "        return [file_path, result.get('encoding')]\n",
    "    except Exception as e:\n",
    "        print(f\"{file_path} generated an exception: {e}\")\n",
    "        return None\n",
    "\n",
    "def check_file_encodings(folder_path):\n",
    "    encoding_data = []\n",
    "    with ThreadPoolExecutor(max_workers=10) as executor:\n",
    "        futures = []\n",
    "        for root, dirs, files in os.walk(folder_path):\n",
    "            for filename in files:\n",
    "                if filename.endswith(\".txt\"):\n",
    "                    file_path = os.path.join(root, filename)\n",
    "                    futures.append(executor.submit(detect_encoding, file_path))\n",
    "        for future in tqdm(futures, desc=\"Checking encodings\"):\n",
    "            result = future.result()\n",
    "            if result:\n",
    "                encoding_data.append(result)\n",
    "    df = pd.DataFrame(encoding_data, columns=['File Name', 'Encoding Type'])\n",
    "    return df\n",
    "\n",
    "# Initialize or load existing summary DataFrame\n",
    "try:\n",
    "    df_summary = pd.read_csv('txt_encoding.csv')\n",
    "except FileNotFoundError:\n",
    "    df_summary = pd.DataFrame(columns=['File Name', 'Encoding Type'])\n",
    "\n",
    "\n",
    "# Get all directory names under \"/app/data/jrdb_txt/\"\n",
    "list_file_name = [name for name in os.listdir(\"/app/data/jrdb_txt/\") if os.path.isdir(os.path.join(\"/app/data/jrdb_txt/\", name))]\n",
    "\n",
    "for file_name in list_file_name:\n",
    "    print(f\"Processing {file_name}...\")\n",
    "    folder_path = f\"/app/data/jrdb_txt/{file_name}\"\n",
    "    df = check_file_encodings(folder_path)\n",
    "    unique_encodings = df['Encoding Type'].unique()\n",
    "\n",
    "    new_row = pd.DataFrame({'File Name': [file_name], 'Encoding Type': [unique_encodings]})\n",
    "    df_summary = pd.concat([df_summary, new_row], ignore_index=True)\n",
    "\n",
    "    df_summary.to_csv('txt_encoding.csv', index=False)\n",
    "\n",
    "print(\"Finished processing all directories.\")\n"
   ]
  },
  {
   "cell_type": "code",
   "execution_count": 4,
   "metadata": {},
   "outputs": [
    {
     "data": {
      "text/html": [
       "<div>\n",
       "<style scoped>\n",
       "    .dataframe tbody tr th:only-of-type {\n",
       "        vertical-align: middle;\n",
       "    }\n",
       "\n",
       "    .dataframe tbody tr th {\n",
       "        vertical-align: top;\n",
       "    }\n",
       "\n",
       "    .dataframe thead th {\n",
       "        text-align: right;\n",
       "    }\n",
       "</style>\n",
       "<table border=\"1\" class=\"dataframe\">\n",
       "  <thead>\n",
       "    <tr style=\"text-align: right;\">\n",
       "      <th></th>\n",
       "      <th>File Name</th>\n",
       "      <th>Encoding Type</th>\n",
       "    </tr>\n",
       "  </thead>\n",
       "  <tbody>\n",
       "    <tr>\n",
       "      <th>0</th>\n",
       "      <td>BAC</td>\n",
       "      <td>['SHIFT_JIS']</td>\n",
       "    </tr>\n",
       "    <tr>\n",
       "      <th>1</th>\n",
       "      <td>BAC</td>\n",
       "      <td>[SHIFT_JIS]</td>\n",
       "    </tr>\n",
       "    <tr>\n",
       "      <th>2</th>\n",
       "      <td>CHA</td>\n",
       "      <td>[MacRoman, Johab, Windows-1252]</td>\n",
       "    </tr>\n",
       "    <tr>\n",
       "      <th>3</th>\n",
       "      <td>CYB</td>\n",
       "      <td>[ascii, MacRoman]</td>\n",
       "    </tr>\n",
       "    <tr>\n",
       "      <th>4</th>\n",
       "      <td>CZA</td>\n",
       "      <td>[SHIFT_JIS]</td>\n",
       "    </tr>\n",
       "    <tr>\n",
       "      <th>5</th>\n",
       "      <td>JOA</td>\n",
       "      <td>[SHIFT_JIS]</td>\n",
       "    </tr>\n",
       "    <tr>\n",
       "      <th>6</th>\n",
       "      <td>KAB</td>\n",
       "      <td>[Windows-1252, None, MacRoman, IBM866]</td>\n",
       "    </tr>\n",
       "    <tr>\n",
       "      <th>7</th>\n",
       "      <td>KKA</td>\n",
       "      <td>[ascii]</td>\n",
       "    </tr>\n",
       "    <tr>\n",
       "      <th>8</th>\n",
       "      <td>KYI</td>\n",
       "      <td>[CP932, SHIFT_JIS]</td>\n",
       "    </tr>\n",
       "    <tr>\n",
       "      <th>9</th>\n",
       "      <td>KZA</td>\n",
       "      <td>[SHIFT_JIS]</td>\n",
       "    </tr>\n",
       "    <tr>\n",
       "      <th>10</th>\n",
       "      <td>MZA</td>\n",
       "      <td>[ascii]</td>\n",
       "    </tr>\n",
       "    <tr>\n",
       "      <th>11</th>\n",
       "      <td>OT</td>\n",
       "      <td>[ascii]</td>\n",
       "    </tr>\n",
       "    <tr>\n",
       "      <th>12</th>\n",
       "      <td>OU</td>\n",
       "      <td>[ascii]</td>\n",
       "    </tr>\n",
       "    <tr>\n",
       "      <th>13</th>\n",
       "      <td>OV</td>\n",
       "      <td>[ascii]</td>\n",
       "    </tr>\n",
       "    <tr>\n",
       "      <th>14</th>\n",
       "      <td>OW</td>\n",
       "      <td>[ascii]</td>\n",
       "    </tr>\n",
       "    <tr>\n",
       "      <th>15</th>\n",
       "      <td>OZ</td>\n",
       "      <td>[ascii]</td>\n",
       "    </tr>\n",
       "    <tr>\n",
       "      <th>16</th>\n",
       "      <td>UKC</td>\n",
       "      <td>[CP932, SHIFT_JIS]</td>\n",
       "    </tr>\n",
       "    <tr>\n",
       "      <th>17</th>\n",
       "      <td>ZED</td>\n",
       "      <td>[SHIFT_JIS]</td>\n",
       "    </tr>\n",
       "    <tr>\n",
       "      <th>18</th>\n",
       "      <td>ZKB</td>\n",
       "      <td>[SHIFT_JIS]</td>\n",
       "    </tr>\n",
       "  </tbody>\n",
       "</table>\n",
       "</div>"
      ],
      "text/plain": [
       "   File Name                           Encoding Type\n",
       "0        BAC                           ['SHIFT_JIS']\n",
       "1        BAC                             [SHIFT_JIS]\n",
       "2        CHA         [MacRoman, Johab, Windows-1252]\n",
       "3        CYB                       [ascii, MacRoman]\n",
       "4        CZA                             [SHIFT_JIS]\n",
       "5        JOA                             [SHIFT_JIS]\n",
       "6        KAB  [Windows-1252, None, MacRoman, IBM866]\n",
       "7        KKA                                 [ascii]\n",
       "8        KYI                      [CP932, SHIFT_JIS]\n",
       "9        KZA                             [SHIFT_JIS]\n",
       "10       MZA                                 [ascii]\n",
       "11        OT                                 [ascii]\n",
       "12        OU                                 [ascii]\n",
       "13        OV                                 [ascii]\n",
       "14        OW                                 [ascii]\n",
       "15        OZ                                 [ascii]\n",
       "16       UKC                      [CP932, SHIFT_JIS]\n",
       "17       ZED                             [SHIFT_JIS]\n",
       "18       ZKB                             [SHIFT_JIS]"
      ]
     },
     "execution_count": 4,
     "metadata": {},
     "output_type": "execute_result"
    }
   ],
   "source": [
    "df_summary\n"
   ]
  },
  {
   "cell_type": "code",
   "execution_count": null,
   "metadata": {},
   "outputs": [],
   "source": []
  }
 ],
 "metadata": {
  "kernelspec": {
   "display_name": "Python 3",
   "language": "python",
   "name": "python3"
  },
  "language_info": {
   "codemirror_mode": {
    "name": "ipython",
    "version": 3
   },
   "file_extension": ".py",
   "mimetype": "text/x-python",
   "name": "python",
   "nbconvert_exporter": "python",
   "pygments_lexer": "ipython3",
   "version": "3.9.18"
  }
 },
 "nbformat": 4,
 "nbformat_minor": 2
}
